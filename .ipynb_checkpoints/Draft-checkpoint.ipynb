{
 "cells": [
  {
   "cell_type": "code",
   "execution_count": 177,
   "id": "9d38d217-acca-4548-98a9-48c2d60cd659",
   "metadata": {},
   "outputs": [],
   "source": [
    "import os\n",
    "import polars as pl\n",
    "import matplotlib.pyplot as plt\n",
    "\n",
    "home_dir = os.path.expanduser('~')\n",
    "\n",
    "Traindatapath = \"./Desktop/QubeChallenge/ModifiedData/TrainDataset/Traindataset.csv\"\n",
    "Traindatapath = os.path.join(home_dir, Traindatapath)\n",
    "Traindatadf = pl.read_csv(Traindatapath)\n",
    "\n",
    "Targetdatapath = \"./Desktop/QubeChallenge/ModifiedData/TrainDataset/Ytrain.csv\"\n",
    "Targetdatapath = os.path.join(home_dir, Targetdatapath)\n",
    "Targetdatadf = pl.read_csv(Targetdatapath)\n"
   ]
  },
  {
   "cell_type": "code",
   "execution_count": null,
   "id": "eec1cebe-2aef-4d02-b4d5-2bd0b188895a",
   "metadata": {},
   "outputs": [],
   "source": []
  }
 ],
 "metadata": {
  "kernelspec": {
   "display_name": "Python 3 (ipykernel)",
   "language": "python",
   "name": "python3"
  },
  "language_info": {
   "codemirror_mode": {
    "name": "ipython",
    "version": 3
   },
   "file_extension": ".py",
   "mimetype": "text/x-python",
   "name": "python",
   "nbconvert_exporter": "python",
   "pygments_lexer": "ipython3",
   "version": "3.9.6"
  }
 },
 "nbformat": 4,
 "nbformat_minor": 5
}
