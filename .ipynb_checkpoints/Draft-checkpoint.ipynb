{
 "cells": [
  {
   "cell_type": "code",
   "execution_count": 119,
   "id": "2632e21e-25a4-4e8e-9b95-b974e9cd4354",
   "metadata": {},
   "outputs": [
    {
     "data": {
      "text/plain": [
       "(3173, 3)"
      ]
     },
     "execution_count": 119,
     "metadata": {},
     "output_type": "execute_result"
    }
   ],
   "source": [
    "import os\n",
    "import polars as pl\n",
    "import matplotlib.pyplot as plt\n",
    "\n",
    "base_dir = os.path.expanduser(\"~/\")\n",
    "traindatasetpath = os.path.join(base_dir, \"Desktop/QubeChallenge/ModifiedData/TrainDataset/Traindataset.csv\")\n",
    "ytrainpath = os.path.join(base_dir, \"Desktop/QubeChallenge/ModifiedData/TrainDataset/Ytrain.csv\")\n",
    "\n",
    "testdatasetpath = os.path.join(base_dir, \"Desktop/QubeChallenge/ModifiedData/TestDataset/Testdataset.csv\")\n",
    "\n",
    "traindataset = pl.read_csv(traindatasetpath)\n",
    "ytrain = pl.read_csv(ytrainpath)\n",
    "testdataset = pl.read_csv(testdatasetpath)\n",
    "\n",
    "ytrain.shape"
   ]
  },
  {
   "cell_type": "code",
   "execution_count": 120,
   "id": "0bbc7e53-6155-4b97-824b-f71e303a11f6",
   "metadata": {},
   "outputs": [
    {
     "data": {
      "text/html": [
       "<div><style>\n",
       ".dataframe > thead > tr,\n",
       ".dataframe > tbody > tr {\n",
       "  text-align: right;\n",
       "  white-space: pre-wrap;\n",
       "}\n",
       "</style>\n",
       "<small>shape: (3_173, 52)</small><table border=\"1\" class=\"dataframe\"><thead><tr><th>ID</th><th>BM_BLAST</th><th>WBC</th><th>ANC</th><th>MONOCYTES</th><th>HB</th><th>PLT</th><th>CYTOGENETICS</th><th>VAF</th><th>DEPTH</th><th>log(DEPTH)</th><th>DEPTH*VAF</th><th>log(DEPTH)*VAF</th><th>MUTATION_LEN</th><th>CHRX</th><th>CHR1</th><th>CHR2</th><th>CHR3</th><th>CHR4</th><th>CHR5</th><th>CHR6</th><th>CHR7</th><th>CHR8</th><th>CHR9</th><th>CHR10</th><th>CHR11</th><th>CHR12</th><th>CHR13</th><th>CHR15</th><th>CHR16</th><th>CHR17</th><th>CHR18</th><th>CHR19</th><th>CHR20</th><th>CHR21</th><th>CHR22</th><th>NSC</th><th>ITD</th><th>PTD</th><th>ICG</th><th>ICL</th><th>SL</th><th>SG</th><th>FV</th><th>TSG</th><th>ONCO</th><th>EPIG</th><th>DNADRG</th><th>SF</th><th>TF</th><th>STG</th><th>CCG</th></tr><tr><td>i64</td><td>f64</td><td>f64</td><td>f64</td><td>f64</td><td>f64</td><td>f64</td><td>str</td><td>f64</td><td>f64</td><td>f64</td><td>f64</td><td>f64</td><td>f64</td><td>i64</td><td>i64</td><td>i64</td><td>i64</td><td>i64</td><td>i64</td><td>i64</td><td>i64</td><td>i64</td><td>i64</td><td>i64</td><td>i64</td><td>i64</td><td>i64</td><td>i64</td><td>i64</td><td>i64</td><td>i64</td><td>i64</td><td>i64</td><td>i64</td><td>i64</td><td>i64</td><td>i64</td><td>i64</td><td>i64</td><td>i64</td><td>i64</td><td>i64</td><td>i64</td><td>i64</td><td>i64</td><td>i64</td><td>i64</td><td>i64</td><td>i64</td><td>i64</td><td>i64</td></tr></thead><tbody><tr><td>100000</td><td>3.0</td><td>7.5</td><td>4.65</td><td>0.37</td><td>8.8</td><td>406.0</td><td>&quot;46,xx,del(5)(q15q33.3)[3]/46,x…</td><td>0.290299</td><td>0.191417</td><td>0.694839</td><td>0.105277</td><td>0.265902</td><td>0.018519</td><td>0</td><td>1</td><td>1</td><td>1</td><td>1</td><td>1</td><td>0</td><td>0</td><td>0</td><td>0</td><td>0</td><td>1</td><td>0</td><td>0</td><td>0</td><td>0</td><td>0</td><td>0</td><td>0</td><td>0</td><td>0</td><td>0</td><td>1</td><td>0</td><td>0</td><td>0</td><td>0</td><td>0</td><td>1</td><td>1</td><td>0</td><td>0</td><td>1</td><td>0</td><td>0</td><td>0</td><td>0</td><td>0</td></tr><tr><td>100001</td><td>2.0</td><td>7.21</td><td>2.88</td><td>0.37</td><td>9.8</td><td>364.0</td><td>&quot;46,xx,del(5)(q13q33)[6]/47,xx,…</td><td>0.247162</td><td>0.121609</td><td>0.624049</td><td>0.063093</td><td>0.21515</td><td>0.0</td><td>0</td><td>0</td><td>1</td><td>1</td><td>0</td><td>0</td><td>0</td><td>0</td><td>0</td><td>0</td><td>0</td><td>0</td><td>0</td><td>0</td><td>0</td><td>0</td><td>0</td><td>0</td><td>0</td><td>0</td><td>0</td><td>1</td><td>1</td><td>0</td><td>0</td><td>0</td><td>0</td><td>0</td><td>1</td><td>0</td><td>0</td><td>0</td><td>0</td><td>0</td><td>0</td><td>0</td><td>0</td><td>0</td></tr><tr><td>100002</td><td>15.0</td><td>2.6</td><td>0.49</td><td>0.37</td><td>8.9</td><td>35.0</td><td>&quot;44,xx,t(2;6;3)(p13;q16;q26),de…</td><td>0.389061</td><td>0.089453</td><td>0.56618</td><td>0.083099</td><td>0.329023</td><td>0.0</td><td>0</td><td>1</td><td>0</td><td>1</td><td>0</td><td>0</td><td>0</td><td>1</td><td>0</td><td>0</td><td>0</td><td>0</td><td>0</td><td>0</td><td>0</td><td>0</td><td>1</td><td>0</td><td>0</td><td>0</td><td>0</td><td>0</td><td>1</td><td>0</td><td>0</td><td>0</td><td>0</td><td>0</td><td>1</td><td>0</td><td>1</td><td>0</td><td>0</td><td>0</td><td>0</td><td>0</td><td>0</td><td>0</td></tr><tr><td>100004</td><td>3.0</td><td>2.55</td><td>1.56</td><td>0.37</td><td>7.0</td><td>708.0</td><td>&quot;46,xx[19]&quot;</td><td>0.463467</td><td>0.299345</td><td>0.783616</td><td>0.29758</td><td>0.466078</td><td>0.006944</td><td>1</td><td>0</td><td>0</td><td>0</td><td>0</td><td>0</td><td>0</td><td>0</td><td>0</td><td>0</td><td>0</td><td>0</td><td>0</td><td>0</td><td>0</td><td>0</td><td>0</td><td>0</td><td>0</td><td>0</td><td>0</td><td>0</td><td>0</td><td>0</td><td>0</td><td>0</td><td>0</td><td>0</td><td>0</td><td>1</td><td>0</td><td>0</td><td>0</td><td>0</td><td>0</td><td>0</td><td>0</td><td>1</td></tr><tr><td>100005</td><td>2.0</td><td>2.31</td><td>1.25</td><td>0.37</td><td>11.8</td><td>141.0</td><td>&quot;46,xx[22]&quot;</td><td>0.286636</td><td>0.230122</td><td>0.729632</td><td>0.135263</td><td>0.272663</td><td>0.002315</td><td>0</td><td>0</td><td>0</td><td>0</td><td>0</td><td>0</td><td>0</td><td>0</td><td>0</td><td>0</td><td>0</td><td>0</td><td>0</td><td>0</td><td>0</td><td>0</td><td>0</td><td>0</td><td>0</td><td>0</td><td>0</td><td>0</td><td>0</td><td>0</td><td>0</td><td>0</td><td>0</td><td>0</td><td>0</td><td>0</td><td>0</td><td>0</td><td>0</td><td>0</td><td>0</td><td>0</td><td>0</td><td>0</td></tr><tr><td>&hellip;</td><td>&hellip;</td><td>&hellip;</td><td>&hellip;</td><td>&hellip;</td><td>&hellip;</td><td>&hellip;</td><td>&hellip;</td><td>&hellip;</td><td>&hellip;</td><td>&hellip;</td><td>&hellip;</td><td>&hellip;</td><td>&hellip;</td><td>&hellip;</td><td>&hellip;</td><td>&hellip;</td><td>&hellip;</td><td>&hellip;</td><td>&hellip;</td><td>&hellip;</td><td>&hellip;</td><td>&hellip;</td><td>&hellip;</td><td>&hellip;</td><td>&hellip;</td><td>&hellip;</td><td>&hellip;</td><td>&hellip;</td><td>&hellip;</td><td>&hellip;</td><td>&hellip;</td><td>&hellip;</td><td>&hellip;</td><td>&hellip;</td><td>&hellip;</td><td>&hellip;</td><td>&hellip;</td><td>&hellip;</td><td>&hellip;</td><td>&hellip;</td><td>&hellip;</td><td>&hellip;</td><td>&hellip;</td><td>&hellip;</td><td>&hellip;</td><td>&hellip;</td><td>&hellip;</td><td>&hellip;</td><td>&hellip;</td><td>&hellip;</td><td>&hellip;</td></tr><tr><td>132725</td><td>12.0</td><td>2.0</td><td>0.6</td><td>0.2</td><td>11.5</td><td>61.0</td><td>&quot;46,xy[20]&quot;</td><td>0.530031</td><td>0.401123</td><td>0.83039</td><td>0.429199</td><td>0.547656</td><td>0.001389</td><td>1</td><td>1</td><td>1</td><td>1</td><td>0</td><td>1</td><td>0</td><td>0</td><td>0</td><td>0</td><td>0</td><td>0</td><td>0</td><td>0</td><td>1</td><td>0</td><td>0</td><td>0</td><td>0</td><td>1</td><td>1</td><td>0</td><td>1</td><td>0</td><td>0</td><td>0</td><td>0</td><td>0</td><td>1</td><td>1</td><td>0</td><td>0</td><td>1</td><td>0</td><td>1</td><td>0</td><td>0</td><td>1</td></tr><tr><td>132726</td><td>15.0</td><td>1.9</td><td>0.5</td><td>0.0</td><td>11.2</td><td>383.0</td><td>&quot;46,xx[20]&quot;</td><td>0.256966</td><td>0.297942</td><td>0.782778</td><td>0.168041</td><td>0.258811</td><td>0.0</td><td>0</td><td>1</td><td>0</td><td>0</td><td>0</td><td>0</td><td>0</td><td>0</td><td>0</td><td>0</td><td>0</td><td>1</td><td>0</td><td>0</td><td>0</td><td>0</td><td>0</td><td>0</td><td>0</td><td>0</td><td>0</td><td>0</td><td>0</td><td>0</td><td>0</td><td>0</td><td>0</td><td>0</td><td>1</td><td>0</td><td>0</td><td>0</td><td>0</td><td>0</td><td>0</td><td>0</td><td>0</td><td>0</td></tr><tr><td>132727</td><td>5.0</td><td>2.3</td><td>1.0</td><td>0.4</td><td>11.3</td><td>44.0</td><td>&quot;46,xy[20]&quot;</td><td>0.31192</td><td>0.299111</td><td>0.780242</td><td>0.198448</td><td>0.312211</td><td>0.006944</td><td>0</td><td>1</td><td>1</td><td>0</td><td>0</td><td>0</td><td>0</td><td>0</td><td>0</td><td>0</td><td>0</td><td>1</td><td>0</td><td>0</td><td>0</td><td>0</td><td>0</td><td>0</td><td>0</td><td>1</td><td>0</td><td>0</td><td>0</td><td>0</td><td>0</td><td>0</td><td>0</td><td>0</td><td>1</td><td>1</td><td>0</td><td>0</td><td>1</td><td>0</td><td>0</td><td>0</td><td>0</td><td>0</td></tr><tr><td>132728</td><td>2.0</td><td>44.9</td><td>40.1</td><td>2.3</td><td>8.2</td><td>14.0</td><td>&quot;47,xy,+14[9]&quot;</td><td>0.436161</td><td>0.31188</td><td>0.789344</td><td>0.292633</td><td>0.440787</td><td>0.004167</td><td>0</td><td>1</td><td>1</td><td>1</td><td>0</td><td>0</td><td>0</td><td>0</td><td>0</td><td>0</td><td>0</td><td>0</td><td>0</td><td>0</td><td>0</td><td>0</td><td>0</td><td>0</td><td>0</td><td>0</td><td>1</td><td>0</td><td>1</td><td>0</td><td>0</td><td>0</td><td>1</td><td>0</td><td>1</td><td>0</td><td>0</td><td>1</td><td>0</td><td>0</td><td>1</td><td>1</td><td>0</td><td>0</td></tr><tr><td>132729</td><td>20.0</td><td>1.3</td><td>0.5</td><td>0.0</td><td>12.7</td><td>147.0</td><td>&quot;46,xy[11]&quot;</td><td>0.240531</td><td>0.146925</td><td>0.656844</td><td>0.074276</td><td>0.215779</td><td>0.039931</td><td>0</td><td>0</td><td>1</td><td>0</td><td>0</td><td>1</td><td>0</td><td>0</td><td>0</td><td>0</td><td>0</td><td>0</td><td>0</td><td>0</td><td>0</td><td>0</td><td>0</td><td>0</td><td>0</td><td>1</td><td>0</td><td>0</td><td>1</td><td>0</td><td>0</td><td>0</td><td>0</td><td>0</td><td>0</td><td>1</td><td>0</td><td>0</td><td>1</td><td>0</td><td>0</td><td>0</td><td>0</td><td>0</td></tr></tbody></table></div>"
      ],
      "text/plain": [
       "shape: (3_173, 52)\n",
       "┌────────┬──────────┬──────┬──────┬───┬─────┬─────┬─────┬─────┐\n",
       "│ ID     ┆ BM_BLAST ┆ WBC  ┆ ANC  ┆ … ┆ SF  ┆ TF  ┆ STG ┆ CCG │\n",
       "│ ---    ┆ ---      ┆ ---  ┆ ---  ┆   ┆ --- ┆ --- ┆ --- ┆ --- │\n",
       "│ i64    ┆ f64      ┆ f64  ┆ f64  ┆   ┆ i64 ┆ i64 ┆ i64 ┆ i64 │\n",
       "╞════════╪══════════╪══════╪══════╪═══╪═════╪═════╪═════╪═════╡\n",
       "│ 100000 ┆ 3.0      ┆ 7.5  ┆ 4.65 ┆ … ┆ 0   ┆ 0   ┆ 0   ┆ 0   │\n",
       "│ 100001 ┆ 2.0      ┆ 7.21 ┆ 2.88 ┆ … ┆ 0   ┆ 0   ┆ 0   ┆ 0   │\n",
       "│ 100002 ┆ 15.0     ┆ 2.6  ┆ 0.49 ┆ … ┆ 0   ┆ 0   ┆ 0   ┆ 0   │\n",
       "│ 100004 ┆ 3.0      ┆ 2.55 ┆ 1.56 ┆ … ┆ 0   ┆ 0   ┆ 0   ┆ 1   │\n",
       "│ 100005 ┆ 2.0      ┆ 2.31 ┆ 1.25 ┆ … ┆ 0   ┆ 0   ┆ 0   ┆ 0   │\n",
       "│ …      ┆ …        ┆ …    ┆ …    ┆ … ┆ …   ┆ …   ┆ …   ┆ …   │\n",
       "│ 132725 ┆ 12.0     ┆ 2.0  ┆ 0.6  ┆ … ┆ 1   ┆ 0   ┆ 0   ┆ 1   │\n",
       "│ 132726 ┆ 15.0     ┆ 1.9  ┆ 0.5  ┆ … ┆ 0   ┆ 0   ┆ 0   ┆ 0   │\n",
       "│ 132727 ┆ 5.0      ┆ 2.3  ┆ 1.0  ┆ … ┆ 0   ┆ 0   ┆ 0   ┆ 0   │\n",
       "│ 132728 ┆ 2.0      ┆ 44.9 ┆ 40.1 ┆ … ┆ 1   ┆ 1   ┆ 0   ┆ 0   │\n",
       "│ 132729 ┆ 20.0     ┆ 1.3  ┆ 0.5  ┆ … ┆ 0   ┆ 0   ┆ 0   ┆ 0   │\n",
       "└────────┴──────────┴──────┴──────┴───┴─────┴─────┴─────┴─────┘"
      ]
     },
     "execution_count": 120,
     "metadata": {},
     "output_type": "execute_result"
    }
   ],
   "source": [
    "traindataset[\"CYTOGENETICS\"]"
   ]
  },
  {
   "cell_type": "code",
   "execution_count": 121,
   "id": "1a2407c0-12b5-48a1-ab36-15ca3d828538",
   "metadata": {},
   "outputs": [
    {
     "data": {
      "text/html": [
       "<div><style>\n",
       ".dataframe > thead > tr,\n",
       ".dataframe > tbody > tr {\n",
       "  text-align: right;\n",
       "  white-space: pre-wrap;\n",
       "}\n",
       "</style>\n",
       "<small>shape: (1_193, 52)</small><table border=\"1\" class=\"dataframe\"><thead><tr><th>ID</th><th>BM_BLAST</th><th>WBC</th><th>ANC</th><th>MONOCYTES</th><th>HB</th><th>PLT</th><th>CYTOGENETICS</th><th>VAF</th><th>DEPTH</th><th>log(DEPTH)</th><th>DEPTH*VAF</th><th>log(DEPTH)*VAF</th><th>MUTATION_LEN</th><th>CHRX</th><th>CHR1</th><th>CHR2</th><th>CHR3</th><th>CHR4</th><th>CHR5</th><th>CHR6</th><th>CHR7</th><th>CHR8</th><th>CHR9</th><th>CHR10</th><th>CHR11</th><th>CHR12</th><th>CHR13</th><th>CHR15</th><th>CHR16</th><th>CHR17</th><th>CHR18</th><th>CHR19</th><th>CHR20</th><th>CHR21</th><th>CHR22</th><th>NSC</th><th>ITD</th><th>PTD</th><th>ICG</th><th>ICL</th><th>SL</th><th>SG</th><th>FV</th><th>TSG</th><th>ONCO</th><th>EPIG</th><th>DNADRG</th><th>SF</th><th>TF</th><th>STG</th><th>CCG</th></tr><tr><td>i64</td><td>f64</td><td>f64</td><td>f64</td><td>f64</td><td>f64</td><td>f64</td><td>str</td><td>f64</td><td>f64</td><td>f64</td><td>f64</td><td>f64</td><td>f64</td><td>i64</td><td>i64</td><td>i64</td><td>i64</td><td>i64</td><td>i64</td><td>i64</td><td>i64</td><td>i64</td><td>i64</td><td>i64</td><td>i64</td><td>i64</td><td>i64</td><td>i64</td><td>i64</td><td>i64</td><td>i64</td><td>i64</td><td>i64</td><td>i64</td><td>i64</td><td>i64</td><td>i64</td><td>i64</td><td>i64</td><td>i64</td><td>i64</td><td>i64</td><td>i64</td><td>i64</td><td>i64</td><td>i64</td><td>i64</td><td>i64</td><td>i64</td><td>i64</td><td>i64</td></tr></thead><tbody><tr><td>1</td><td>68.0</td><td>3.45</td><td>0.5865</td><td>0.20075</td><td>7.6</td><td>48.0</td><td>&quot;47,XY,+X,del(9)(q?)[15]/47,XY,…</td><td>0.233222</td><td>0.297064</td><td>0.662569</td><td>0.12575</td><td>0.212461</td><td>0.0</td><td>1</td><td>0</td><td>1</td><td>0</td><td>0</td><td>1</td><td>0</td><td>0</td><td>0</td><td>0</td><td>0</td><td>0</td><td>0</td><td>0</td><td>0</td><td>0</td><td>0</td><td>0</td><td>0</td><td>0</td><td>0</td><td>0</td><td>1</td><td>1</td><td>0</td><td>0</td><td>0</td><td>0</td><td>1</td><td>1</td><td>0</td><td>1</td><td>1</td><td>0</td><td>0</td><td>0</td><td>0</td><td>0</td></tr><tr><td>2</td><td>35.0</td><td>3.18</td><td>1.2402</td><td>0.20075</td><td>10.0</td><td>32.0</td><td>&quot;46,XY,der(3)?t(3;11)(q26.2;q23…</td><td>0.269072</td><td>0.397498</td><td>0.746179</td><td>0.126226</td><td>0.241767</td><td>0.0</td><td>1</td><td>1</td><td>1</td><td>0</td><td>0</td><td>0</td><td>0</td><td>0</td><td>0</td><td>0</td><td>0</td><td>0</td><td>1</td><td>0</td><td>0</td><td>0</td><td>0</td><td>0</td><td>0</td><td>0</td><td>0</td><td>0</td><td>1</td><td>0</td><td>0</td><td>0</td><td>0</td><td>0</td><td>1</td><td>0</td><td>0</td><td>1</td><td>0</td><td>0</td><td>0</td><td>0</td><td>0</td><td>0</td></tr><tr><td>3</td><td>6.0</td><td>12.4</td><td>8.68</td><td>0.20075</td><td>12.3</td><td>25.0</td><td>&quot;47,XX,+8&quot;</td><td>0.147079</td><td>0.656578</td><td>0.888056</td><td>0.174127</td><td>0.153824</td><td>0.014493</td><td>0</td><td>0</td><td>1</td><td>0</td><td>1</td><td>0</td><td>0</td><td>0</td><td>0</td><td>0</td><td>0</td><td>0</td><td>0</td><td>0</td><td>0</td><td>0</td><td>0</td><td>0</td><td>0</td><td>1</td><td>0</td><td>0</td><td>0</td><td>0</td><td>0</td><td>0</td><td>0</td><td>0</td><td>1</td><td>1</td><td>0</td><td>0</td><td>1</td><td>0</td><td>0</td><td>0</td><td>0</td><td>0</td></tr><tr><td>4</td><td>61.0</td><td>5.55</td><td>2.0535</td><td>0.20075</td><td>8.0</td><td>44.0</td><td>&quot;Normal&quot;</td><td>0.341615</td><td>0.575061</td><td>0.830799</td><td>0.356048</td><td>0.347604</td><td>0.0</td><td>0</td><td>1</td><td>1</td><td>0</td><td>0</td><td>0</td><td>0</td><td>0</td><td>0</td><td>0</td><td>0</td><td>1</td><td>0</td><td>0</td><td>0</td><td>0</td><td>0</td><td>0</td><td>0</td><td>0</td><td>1</td><td>0</td><td>0</td><td>1</td><td>0</td><td>0</td><td>0</td><td>0</td><td>1</td><td>1</td><td>0</td><td>1</td><td>0</td><td>0</td><td>0</td><td>1</td><td>0</td><td>0</td></tr><tr><td>5</td><td>2.0</td><td>1.21</td><td>0.7381</td><td>0.20075</td><td>8.6</td><td>27.0</td><td>&quot;43,XY,dic(5;17)(q11.2;p11.2),-…</td><td>0.251203</td><td>0.467716</td><td>0.798853</td><td>0.197053</td><td>0.246444</td><td>0.0</td><td>0</td><td>1</td><td>1</td><td>0</td><td>0</td><td>0</td><td>0</td><td>1</td><td>0</td><td>0</td><td>0</td><td>0</td><td>0</td><td>0</td><td>0</td><td>0</td><td>1</td><td>0</td><td>0</td><td>1</td><td>1</td><td>0</td><td>1</td><td>0</td><td>0</td><td>0</td><td>0</td><td>0</td><td>1</td><td>0</td><td>0</td><td>0</td><td>1</td><td>0</td><td>1</td><td>0</td><td>0</td><td>0</td></tr><tr><td>&hellip;</td><td>&hellip;</td><td>&hellip;</td><td>&hellip;</td><td>&hellip;</td><td>&hellip;</td><td>&hellip;</td><td>&hellip;</td><td>&hellip;</td><td>&hellip;</td><td>&hellip;</td><td>&hellip;</td><td>&hellip;</td><td>&hellip;</td><td>&hellip;</td><td>&hellip;</td><td>&hellip;</td><td>&hellip;</td><td>&hellip;</td><td>&hellip;</td><td>&hellip;</td><td>&hellip;</td><td>&hellip;</td><td>&hellip;</td><td>&hellip;</td><td>&hellip;</td><td>&hellip;</td><td>&hellip;</td><td>&hellip;</td><td>&hellip;</td><td>&hellip;</td><td>&hellip;</td><td>&hellip;</td><td>&hellip;</td><td>&hellip;</td><td>&hellip;</td><td>&hellip;</td><td>&hellip;</td><td>&hellip;</td><td>&hellip;</td><td>&hellip;</td><td>&hellip;</td><td>&hellip;</td><td>&hellip;</td><td>&hellip;</td><td>&hellip;</td><td>&hellip;</td><td>&hellip;</td><td>&hellip;</td><td>&hellip;</td><td>&hellip;</td><td>&hellip;</td></tr><tr><td>1189</td><td>6.0</td><td>2.9</td><td>1.296</td><td>0.20075</td><td>8.4</td><td>74.0</td><td>null</td><td>0.43866</td><td>0.368947</td><td>0.72116</td><td>0.273322</td><td>0.411836</td><td>0.0</td><td>0</td><td>1</td><td>0</td><td>0</td><td>0</td><td>0</td><td>1</td><td>0</td><td>0</td><td>0</td><td>0</td><td>1</td><td>0</td><td>0</td><td>0</td><td>0</td><td>0</td><td>0</td><td>0</td><td>0</td><td>0</td><td>0</td><td>1</td><td>0</td><td>0</td><td>0</td><td>0</td><td>0</td><td>0</td><td>0</td><td>0</td><td>0</td><td>0</td><td>0</td><td>0</td><td>0</td><td>0</td><td>0</td></tr><tr><td>1190</td><td>6.0</td><td>2.9</td><td>1.296</td><td>0.20075</td><td>8.4</td><td>74.0</td><td>null</td><td>0.431615</td><td>0.106134</td><td>0.416374</td><td>0.073542</td><td>0.321635</td><td>0.188406</td><td>0</td><td>1</td><td>0</td><td>0</td><td>1</td><td>0</td><td>0</td><td>0</td><td>0</td><td>0</td><td>0</td><td>1</td><td>0</td><td>0</td><td>0</td><td>0</td><td>0</td><td>0</td><td>0</td><td>0</td><td>0</td><td>0</td><td>1</td><td>0</td><td>0</td><td>0</td><td>0</td><td>0</td><td>0</td><td>1</td><td>0</td><td>1</td><td>1</td><td>0</td><td>0</td><td>0</td><td>0</td><td>0</td></tr><tr><td>1191</td><td>6.0</td><td>2.9</td><td>1.296</td><td>0.20075</td><td>8.4</td><td>74.0</td><td>null</td><td>0.105155</td><td>0.541162</td><td>0.837814</td><td>0.102749</td><td>0.106625</td><td>0.0</td><td>0</td><td>1</td><td>0</td><td>0</td><td>0</td><td>0</td><td>0</td><td>1</td><td>0</td><td>0</td><td>0</td><td>0</td><td>0</td><td>0</td><td>0</td><td>0</td><td>1</td><td>0</td><td>0</td><td>0</td><td>0</td><td>0</td><td>1</td><td>0</td><td>0</td><td>0</td><td>0</td><td>0</td><td>0</td><td>0</td><td>1</td><td>0</td><td>0</td><td>0</td><td>0</td><td>0</td><td>0</td><td>0</td></tr><tr><td>1192</td><td>6.0</td><td>2.9</td><td>1.296</td><td>0.20075</td><td>8.4</td><td>74.0</td><td>null</td><td>0.294502</td><td>0.281073</td><td>0.663846</td><td>0.13607</td><td>0.264815</td><td>0.0</td><td>0</td><td>0</td><td>0</td><td>0</td><td>0</td><td>1</td><td>0</td><td>1</td><td>0</td><td>0</td><td>0</td><td>0</td><td>0</td><td>0</td><td>0</td><td>0</td><td>0</td><td>0</td><td>0</td><td>0</td><td>0</td><td>0</td><td>1</td><td>0</td><td>0</td><td>0</td><td>0</td><td>0</td><td>0</td><td>1</td><td>0</td><td>0</td><td>0</td><td>0</td><td>0</td><td>0</td><td>0</td><td>0</td></tr><tr><td>1193</td><td>6.0</td><td>2.9</td><td>1.296</td><td>0.20075</td><td>8.4</td><td>74.0</td><td>null</td><td>0.563402</td><td>0.185835</td><td>0.564985</td><td>0.173192</td><td>0.474642</td><td>0.0</td><td>0</td><td>1</td><td>0</td><td>0</td><td>0</td><td>0</td><td>0</td><td>1</td><td>0</td><td>0</td><td>1</td><td>0</td><td>0</td><td>0</td><td>0</td><td>0</td><td>1</td><td>0</td><td>0</td><td>0</td><td>0</td><td>0</td><td>1</td><td>0</td><td>0</td><td>0</td><td>0</td><td>0</td><td>0</td><td>0</td><td>1</td><td>0</td><td>0</td><td>0</td><td>0</td><td>0</td><td>0</td><td>1</td></tr></tbody></table></div>"
      ],
      "text/plain": [
       "shape: (1_193, 52)\n",
       "┌──────┬──────────┬──────┬────────┬───┬─────┬─────┬─────┬─────┐\n",
       "│ ID   ┆ BM_BLAST ┆ WBC  ┆ ANC    ┆ … ┆ SF  ┆ TF  ┆ STG ┆ CCG │\n",
       "│ ---  ┆ ---      ┆ ---  ┆ ---    ┆   ┆ --- ┆ --- ┆ --- ┆ --- │\n",
       "│ i64  ┆ f64      ┆ f64  ┆ f64    ┆   ┆ i64 ┆ i64 ┆ i64 ┆ i64 │\n",
       "╞══════╪══════════╪══════╪════════╪═══╪═════╪═════╪═════╪═════╡\n",
       "│ 1    ┆ 68.0     ┆ 3.45 ┆ 0.5865 ┆ … ┆ 0   ┆ 0   ┆ 0   ┆ 0   │\n",
       "│ 2    ┆ 35.0     ┆ 3.18 ┆ 1.2402 ┆ … ┆ 0   ┆ 0   ┆ 0   ┆ 0   │\n",
       "│ 3    ┆ 6.0      ┆ 12.4 ┆ 8.68   ┆ … ┆ 0   ┆ 0   ┆ 0   ┆ 0   │\n",
       "│ 4    ┆ 61.0     ┆ 5.55 ┆ 2.0535 ┆ … ┆ 0   ┆ 1   ┆ 0   ┆ 0   │\n",
       "│ 5    ┆ 2.0      ┆ 1.21 ┆ 0.7381 ┆ … ┆ 1   ┆ 0   ┆ 0   ┆ 0   │\n",
       "│ …    ┆ …        ┆ …    ┆ …      ┆ … ┆ …   ┆ …   ┆ …   ┆ …   │\n",
       "│ 1189 ┆ 6.0      ┆ 2.9  ┆ 1.296  ┆ … ┆ 0   ┆ 0   ┆ 0   ┆ 0   │\n",
       "│ 1190 ┆ 6.0      ┆ 2.9  ┆ 1.296  ┆ … ┆ 0   ┆ 0   ┆ 0   ┆ 0   │\n",
       "│ 1191 ┆ 6.0      ┆ 2.9  ┆ 1.296  ┆ … ┆ 0   ┆ 0   ┆ 0   ┆ 0   │\n",
       "│ 1192 ┆ 6.0      ┆ 2.9  ┆ 1.296  ┆ … ┆ 0   ┆ 0   ┆ 0   ┆ 0   │\n",
       "│ 1193 ┆ 6.0      ┆ 2.9  ┆ 1.296  ┆ … ┆ 0   ┆ 0   ┆ 0   ┆ 1   │\n",
       "└──────┴──────────┴──────┴────────┴───┴─────┴─────┴─────┴─────┘"
      ]
     },
     "execution_count": 121,
     "metadata": {},
     "output_type": "execute_result"
    }
   ],
   "source": [
    "testdataset"
   ]
  },
  {
   "cell_type": "code",
   "execution_count": 115,
   "id": "6f0f286e-06fc-4212-84fb-47d93e67aeee",
   "metadata": {},
   "outputs": [],
   "source": [
    "trainmolecularpath = os.path.join(base_dir, \"Desktop/QubeChallenge/RawData/TrainDataset/Trainmolecular.csv\")\n",
    "testmolecularpath = os.path.join(base_dir, \"Desktop/QubeChallenge/RawData/TestDataset/Testmolecular.csv\")\n",
    "\n",
    "trainmoleculardf = pl.read_csv(trainmolecularpath)\n",
    "testmoleculardf = pl.read_csv(testmolecularpath, schema_overrides={\"CHR\": pl.Utf8})"
   ]
  },
  {
   "cell_type": "code",
   "execution_count": 117,
   "id": "100847e1-f1e6-4c2a-9858-f869e4449a8a",
   "metadata": {},
   "outputs": [
    {
     "data": {
      "image/png": "[encoded data removed]",
      "text/plain": [
       "<Figure size 640x480 with 1 Axes>"
      ]
     },
     "metadata": {},
     "output_type": "display_data"
    }
   ],
   "source": [
    "plt.hist((1 + trainmoleculardf[\"DEPTH\"]).log())\n",
    "plt.show()"
   ]
  },
  {
   "cell_type": "code",
   "execution_count": 118,
   "id": "89c53acc-755b-47ff-8eb8-23081bc15c0d",
   "metadata": {},
   "outputs": [
    {
     "ename": "ColumnNotFoundError",
     "evalue": "\"DEPTH*VAF\" not found",
     "output_type": "error",
     "traceback": [
      "\u001b[0;31m---------------------------------------------------------------------------\u001b[0m",
      "\u001b[0;31mColumnNotFoundError\u001b[0m                       Traceback (most recent call last)",
      "\u001b[0;32m/var/folders/yb/dd967hf57md003938kclysxm0000gn/T/ipykernel_19380/272578782.py\u001b[0m in \u001b[0;36m?\u001b[0;34m()\u001b[0m\n\u001b[0;32m----> 1\u001b[0;31m \u001b[0mplt\u001b[0m\u001b[0;34m.\u001b[0m\u001b[0mhist\u001b[0m\u001b[0;34m(\u001b[0m\u001b[0;34m(\u001b[0m\u001b[0;36m1\u001b[0m \u001b[0;34m+\u001b[0m \u001b[0mtrainmoleculardf\u001b[0m\u001b[0;34m[\u001b[0m\u001b[0;34m\"DEPTH*VAF\"\u001b[0m\u001b[0;34m]\u001b[0m\u001b[0;34m)\u001b[0m\u001b[0;34m.\u001b[0m\u001b[0mlog\u001b[0m\u001b[0;34m(\u001b[0m\u001b[0;34m)\u001b[0m\u001b[0;34m)\u001b[0m\u001b[0;34m\u001b[0m\u001b[0;34m\u001b[0m\u001b[0m\n\u001b[0m\u001b[1;32m      2\u001b[0m \u001b[0mplt\u001b[0m\u001b[0;34m.\u001b[0m\u001b[0mshow\u001b[0m\u001b[0;34m(\u001b[0m\u001b[0;34m)\u001b[0m\u001b[0;34m\u001b[0m\u001b[0;34m\u001b[0m\u001b[0m\n",
      "\u001b[0;32m~/Desktop/.venv/lib/python3.9/site-packages/polars/dataframe/frame.py\u001b[0m in \u001b[0;36m?\u001b[0;34m(self, key)\u001b[0m\n\u001b[1;32m   1372\u001b[0m         \u001b[0;31m│\u001b[0m \u001b[0;36m2\u001b[0m\u001b[0;31m \u001b[0m\u001b[0;31m \u001b[0m\u001b[0;31m \u001b[0m\u001b[0;31m┆\u001b[0m \u001b[0;36m5\u001b[0m\u001b[0;31m \u001b[0m\u001b[0;31m \u001b[0m\u001b[0;31m \u001b[0m\u001b[0;31m┆\u001b[0m \u001b[0;36m3\u001b[0m\u001b[0;31m \u001b[0m\u001b[0;31m \u001b[0m\u001b[0;31m \u001b[0m\u001b[0;31m│\u001b[0m\u001b[0;34m\u001b[0m\u001b[0;34m\u001b[0m\u001b[0m\n\u001b[1;32m   1373\u001b[0m         \u001b[0;31m│\u001b[0m \u001b[0;36m3\u001b[0m\u001b[0;31m \u001b[0m\u001b[0;31m \u001b[0m\u001b[0;31m \u001b[0m\u001b[0;31m┆\u001b[0m \u001b[0;36m6\u001b[0m\u001b[0;31m \u001b[0m\u001b[0;31m \u001b[0m\u001b[0;31m \u001b[0m\u001b[0;31m┆\u001b[0m \u001b[0;36m2\u001b[0m\u001b[0;31m \u001b[0m\u001b[0;31m \u001b[0m\u001b[0;31m \u001b[0m\u001b[0;31m│\u001b[0m\u001b[0;34m\u001b[0m\u001b[0;34m\u001b[0m\u001b[0m\n\u001b[1;32m   1374\u001b[0m         \u001b[0;31m└\u001b[0m\u001b[0;31m─\u001b[0m\u001b[0;31m─\u001b[0m\u001b[0;31m─\u001b[0m\u001b[0;31m─\u001b[0m\u001b[0;31m─\u001b[0m\u001b[0;31m┴\u001b[0m\u001b[0;31m─\u001b[0m\u001b[0;31m─\u001b[0m\u001b[0;31m─\u001b[0m\u001b[0;31m─\u001b[0m\u001b[0;31m─\u001b[0m\u001b[0;31m┴\u001b[0m\u001b[0;31m─\u001b[0m\u001b[0;31m─\u001b[0m\u001b[0;31m─\u001b[0m\u001b[0;31m─\u001b[0m\u001b[0;31m─\u001b[0m\u001b[0;31m┘\u001b[0m\u001b[0;34m\u001b[0m\u001b[0;34m\u001b[0m\u001b[0m\n\u001b[1;32m   1375\u001b[0m         \"\"\"\n\u001b[0;32m-> 1376\u001b[0;31m         \u001b[0;32mreturn\u001b[0m \u001b[0mget_df_item_by_key\u001b[0m\u001b[0;34m(\u001b[0m\u001b[0mself\u001b[0m\u001b[0;34m,\u001b[0m \u001b[0mkey\u001b[0m\u001b[0;34m)\u001b[0m\u001b[0;34m\u001b[0m\u001b[0;34m\u001b[0m\u001b[0m\n\u001b[0m",
      "\u001b[0;32m~/Desktop/.venv/lib/python3.9/site-packages/polars/_utils/getitem.py\u001b[0m in \u001b[0;36m?\u001b[0;34m(df, key)\u001b[0m\n\u001b[1;32m    159\u001b[0m     \u001b[0;31m# Single string input, e.g. df[\"a\"]\u001b[0m\u001b[0;34m\u001b[0m\u001b[0;34m\u001b[0m\u001b[0;34m\u001b[0m\u001b[0m\n\u001b[1;32m    160\u001b[0m     \u001b[0;32mif\u001b[0m \u001b[0misinstance\u001b[0m\u001b[0;34m(\u001b[0m\u001b[0mkey\u001b[0m\u001b[0;34m,\u001b[0m \u001b[0mstr\u001b[0m\u001b[0;34m)\u001b[0m\u001b[0;34m:\u001b[0m\u001b[0;34m\u001b[0m\u001b[0;34m\u001b[0m\u001b[0m\n\u001b[1;32m    161\u001b[0m         \u001b[0;31m# This case is required because empty strings are otherwise treated\u001b[0m\u001b[0;34m\u001b[0m\u001b[0;34m\u001b[0m\u001b[0;34m\u001b[0m\u001b[0m\n\u001b[1;32m    162\u001b[0m         \u001b[0;31m# as an empty Sequence in `_select_rows`\u001b[0m\u001b[0;34m\u001b[0m\u001b[0;34m\u001b[0m\u001b[0;34m\u001b[0m\u001b[0m\n\u001b[0;32m--> 163\u001b[0;31m         \u001b[0;32mreturn\u001b[0m \u001b[0mdf\u001b[0m\u001b[0;34m.\u001b[0m\u001b[0mget_column\u001b[0m\u001b[0;34m(\u001b[0m\u001b[0mkey\u001b[0m\u001b[0;34m)\u001b[0m\u001b[0;34m\u001b[0m\u001b[0;34m\u001b[0m\u001b[0m\n\u001b[0m\u001b[1;32m    164\u001b[0m \u001b[0;34m\u001b[0m\u001b[0m\n\u001b[1;32m    165\u001b[0m     \u001b[0;31m# Single input - df[1] - or multiple inputs - df[\"a\", \"b\", \"c\"]\u001b[0m\u001b[0;34m\u001b[0m\u001b[0;34m\u001b[0m\u001b[0;34m\u001b[0m\u001b[0m\n\u001b[1;32m    166\u001b[0m     \u001b[0;32mtry\u001b[0m\u001b[0;34m:\u001b[0m\u001b[0;34m\u001b[0m\u001b[0;34m\u001b[0m\u001b[0m\n",
      "\u001b[0;32m~/Desktop/.venv/lib/python3.9/site-packages/polars/dataframe/frame.py\u001b[0m in \u001b[0;36m?\u001b[0;34m(self, name, default)\u001b[0m\n\u001b[1;32m   8208\u001b[0m         \u001b[0;32mtry\u001b[0m\u001b[0;34m:\u001b[0m\u001b[0;34m\u001b[0m\u001b[0;34m\u001b[0m\u001b[0m\n\u001b[1;32m   8209\u001b[0m             \u001b[0;32mreturn\u001b[0m \u001b[0mwrap_s\u001b[0m\u001b[0;34m(\u001b[0m\u001b[0mself\u001b[0m\u001b[0;34m.\u001b[0m\u001b[0m_df\u001b[0m\u001b[0;34m.\u001b[0m\u001b[0mget_column\u001b[0m\u001b[0;34m(\u001b[0m\u001b[0mname\u001b[0m\u001b[0;34m)\u001b[0m\u001b[0;34m)\u001b[0m\u001b[0;34m\u001b[0m\u001b[0;34m\u001b[0m\u001b[0m\n\u001b[1;32m   8210\u001b[0m         \u001b[0;32mexcept\u001b[0m \u001b[0mColumnNotFoundError\u001b[0m\u001b[0;34m:\u001b[0m\u001b[0;34m\u001b[0m\u001b[0;34m\u001b[0m\u001b[0m\n\u001b[1;32m   8211\u001b[0m             \u001b[0;32mif\u001b[0m \u001b[0mdefault\u001b[0m \u001b[0;32mis\u001b[0m \u001b[0mno_default\u001b[0m\u001b[0;34m:\u001b[0m\u001b[0;34m\u001b[0m\u001b[0;34m\u001b[0m\u001b[0m\n\u001b[0;32m-> 8212\u001b[0;31m                 \u001b[0;32mraise\u001b[0m\u001b[0;34m\u001b[0m\u001b[0;34m\u001b[0m\u001b[0m\n\u001b[0m\u001b[1;32m   8213\u001b[0m             \u001b[0;32mreturn\u001b[0m \u001b[0mdefault\u001b[0m\u001b[0;34m\u001b[0m\u001b[0;34m\u001b[0m\u001b[0m\n",
      "\u001b[0;31mColumnNotFoundError\u001b[0m: \"DEPTH*VAF\" not found"
     ]
    }
   ],
   "source": [
    "plt.hist((1 + trainmoleculardf[\"DEPTH*VAF\"]).log())\n",
    "plt.show()"
   ]
  },
  {
   "cell_type": "code",
   "execution_count": null,
   "id": "46b9e0d7-6da3-4fcc-be14-5a04cf3dab05",
   "metadata": {},
   "outputs": [],
   "source": []
  }
 ],
 "metadata": {
  "kernelspec": {
   "display_name": "Python 3 (ipykernel)",
   "language": "python",
   "name": "python3"
  },
  "language_info": {
   "codemirror_mode": {
    "name": "ipython",
    "version": 3
   },
   "file_extension": ".py",
   "mimetype": "text/x-python",
   "name": "python",
   "nbconvert_exporter": "python",
   "pygments_lexer": "ipython3",
   "version": "3.9.6"
  }
 },
 "nbformat": 4,
 "nbformat_minor": 5
}
