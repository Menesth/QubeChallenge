{
 "cells": [
  {
   "cell_type": "code",
   "execution_count": 24,
   "id": "95fa9952-b6d0-4665-afba-4c504089ff86",
   "metadata": {},
   "outputs": [],
   "source": [
    "import polars as pl\n",
    "\n",
    "Raw_Trainclinical = \"/Users/thibautmenes/Desktop/QubeChallenge/RawData/TrainDataset/Trainclinical.csv\"\n",
    "Raw_Trainmolecular = \"/Users/thibautmenes/Desktop/QubeChallenge/RawData/TrainDataset/Trainmolecular.csv\"\n",
    "Raw_Ytrain = \"/Users/thibautmenes/Desktop/QubeChallenge/RawData/TrainDataset/Ytrain.csv\"\n",
    "\n",
    "df_trainclinical = pl.read_csv(Raw_Trainclinical)\n",
    "df_trainmolecular = pl.read_csv(Raw_Trainmolecular)\n",
    "dfYtrain = pl.read_csv(Raw_Ytrain)"
   ]
  },
  {
   "cell_type": "code",
   "execution_count": 28,
   "id": "c943eba5-700a-41ca-bcf1-b5f34538ac0c",
   "metadata": {},
   "outputs": [
    {
     "data": {
      "text/html": [
       "<div><style>\n",
       ".dataframe > thead > tr,\n",
       ".dataframe > tbody > tr {\n",
       "  text-align: right;\n",
       "  white-space: pre-wrap;\n",
       "}\n",
       "</style>\n",
       "<small>shape: (5, 11)</small><table border=\"1\" class=\"dataframe\"><thead><tr><th>ID</th><th>CHR</th><th>START</th><th>END</th><th>REF</th><th>ALT</th><th>GENE</th><th>PROTEIN_CHANGE</th><th>EFFECT</th><th>VAF</th><th>DEPTH</th></tr><tr><td>str</td><td>str</td><td>f64</td><td>f64</td><td>str</td><td>str</td><td>str</td><td>str</td><td>str</td><td>f64</td><td>f64</td></tr></thead><tbody><tr><td>&quot;P103051&quot;</td><td>&quot;X&quot;</td><td>1.5818078e7</td><td>1.5818078e7</td><td>&quot;T&quot;</td><td>&quot;G&quot;</td><td>&quot;ZRSR2&quot;</td><td>&quot;p.?&quot;</td><td>&quot;splice_site_variant&quot;</td><td>0.96</td><td>232.0</td></tr><tr><td>&quot;P121083&quot;</td><td>&quot;X&quot;</td><td>1.5836766e7</td><td>1.5836766e7</td><td>&quot;G&quot;</td><td>&quot;A&quot;</td><td>&quot;ZRSR2&quot;</td><td>&quot;p.?&quot;</td><td>&quot;splice_site_variant&quot;</td><td>0.239</td><td>297.0</td></tr><tr><td>&quot;P131886&quot;</td><td>&quot;X&quot;</td><td>1.5836766e7</td><td>1.5836766e7</td><td>&quot;G&quot;</td><td>&quot;A&quot;</td><td>&quot;ZRSR2&quot;</td><td>&quot;p.?&quot;</td><td>&quot;splice_site_variant&quot;</td><td>0.138</td><td>492.0</td></tr><tr><td>&quot;P131886&quot;</td><td>&quot;4&quot;</td><td>1.06157338e8</td><td>1.06157338e8</td><td>&quot;A&quot;</td><td>&quot;T&quot;</td><td>&quot;TET2&quot;</td><td>&quot;p.K747*&quot;</td><td>&quot;stop_gained&quot;</td><td>0.467</td><td>1517.0</td></tr><tr><td>&quot;P131886&quot;</td><td>&quot;4&quot;</td><td>1.06157556e8</td><td>1.06157556e8</td><td>&quot;T&quot;</td><td>&quot;A&quot;</td><td>&quot;TET2&quot;</td><td>&quot;p.Y819*&quot;</td><td>&quot;stop_gained&quot;</td><td>0.092</td><td>1433.0</td></tr></tbody></table></div>"
      ],
      "text/plain": [
       "shape: (5, 11)\n",
       "┌─────────┬─────┬──────────────┬──────────────┬───┬───────────────┬───────────────┬───────┬────────┐\n",
       "│ ID      ┆ CHR ┆ START        ┆ END          ┆ … ┆ PROTEIN_CHANG ┆ EFFECT        ┆ VAF   ┆ DEPTH  │\n",
       "│ ---     ┆ --- ┆ ---          ┆ ---          ┆   ┆ E             ┆ ---           ┆ ---   ┆ ---    │\n",
       "│ str     ┆ str ┆ f64          ┆ f64          ┆   ┆ ---           ┆ str           ┆ f64   ┆ f64    │\n",
       "│         ┆     ┆              ┆              ┆   ┆ str           ┆               ┆       ┆        │\n",
       "╞═════════╪═════╪══════════════╪══════════════╪═══╪═══════════════╪═══════════════╪═══════╪════════╡\n",
       "│ P103051 ┆ X   ┆ 1.5818078e7  ┆ 1.5818078e7  ┆ … ┆ p.?           ┆ splice_site_v ┆ 0.96  ┆ 232.0  │\n",
       "│         ┆     ┆              ┆              ┆   ┆               ┆ ariant        ┆       ┆        │\n",
       "│ P121083 ┆ X   ┆ 1.5836766e7  ┆ 1.5836766e7  ┆ … ┆ p.?           ┆ splice_site_v ┆ 0.239 ┆ 297.0  │\n",
       "│         ┆     ┆              ┆              ┆   ┆               ┆ ariant        ┆       ┆        │\n",
       "│ P131886 ┆ X   ┆ 1.5836766e7  ┆ 1.5836766e7  ┆ … ┆ p.?           ┆ splice_site_v ┆ 0.138 ┆ 492.0  │\n",
       "│         ┆     ┆              ┆              ┆   ┆               ┆ ariant        ┆       ┆        │\n",
       "│ P131886 ┆ 4   ┆ 1.06157338e8 ┆ 1.06157338e8 ┆ … ┆ p.K747*       ┆ stop_gained   ┆ 0.467 ┆ 1517.0 │\n",
       "│ P131886 ┆ 4   ┆ 1.06157556e8 ┆ 1.06157556e8 ┆ … ┆ p.Y819*       ┆ stop_gained   ┆ 0.092 ┆ 1433.0 │\n",
       "└─────────┴─────┴──────────────┴──────────────┴───┴───────────────┴───────────────┴───────┴────────┘"
      ]
     },
     "execution_count": 28,
     "metadata": {},
     "output_type": "execute_result"
    }
   ],
   "source": [
    "df_trainmolecular[10815:10820]"
   ]
  },
  {
   "cell_type": "code",
   "execution_count": 29,
   "id": "f062acb2-d728-4b4e-9063-fcec76db8192",
   "metadata": {},
   "outputs": [],
   "source": [
    "Raw_Testclinical = \"/Users/thibautmenes/Desktop/QubeChallenge/RawData/TestDataset/Testclinical.csv\"\n",
    "Raw_Testmolecular = \"/Users/thibautmenes/Desktop/QubeChallenge/RawData/TestDataset/Testmolecular.csv\"\n",
    "\n",
    "df_testclinical = pl.read_csv(Raw_Testclinical)\n",
    "#df_testmolecular = pl.read_csv(Raw_Testmolecular)\n",
    "\n",
    "#df_testclinical = df_testclinical.sort(\"ID\")\n",
    "#df_testmolecular = df_testmolecular.sort(\"ID\")\n",
    "\n",
    "#df_testclinical.write_csv(\"/Users/thibautmenes/Desktop/QubeChallenge/ModifiedData/TestDataset/Testclinical.csv\")\n",
    "#df_testmolecular.write_csv(\"/Users/thibautmenes/Desktop/QubeChallenge/ModifiedData/TestDataset/Testmolecular.csv\")"
   ]
  },
  {
   "cell_type": "code",
   "execution_count": 32,
   "id": "02ed6b6e-911b-4179-8158-7c5a77a81bff",
   "metadata": {},
   "outputs": [],
   "source": [
    "df_testmolecular = pl.read_csv(Raw_Testmolecular, schema_overrides={\"CHR\": pl.Utf8})"
   ]
  },
  {
   "cell_type": "code",
   "execution_count": 33,
   "id": "621d9963-c7fa-4b4d-960b-c8096e0f52f2",
   "metadata": {},
   "outputs": [
    {
     "data": {
      "text/html": [
       "<div><style>\n",
       ".dataframe > thead > tr,\n",
       ".dataframe > tbody > tr {\n",
       "  text-align: right;\n",
       "  white-space: pre-wrap;\n",
       "}\n",
       "</style>\n",
       "<small>shape: (3_089, 11)</small><table border=\"1\" class=\"dataframe\"><thead><tr><th>ID</th><th>CHR</th><th>START</th><th>END</th><th>REF</th><th>ALT</th><th>GENE</th><th>PROTEIN_CHANGE</th><th>EFFECT</th><th>VAF</th><th>DEPTH</th></tr><tr><td>str</td><td>str</td><td>f64</td><td>f64</td><td>str</td><td>str</td><td>str</td><td>str</td><td>str</td><td>f64</td><td>f64</td></tr></thead><tbody><tr><td>&quot;KYW961&quot;</td><td>&quot;1&quot;</td><td>1.747229e6</td><td>1.747229e6</td><td>&quot;T&quot;</td><td>&quot;C&quot;</td><td>&quot;GNB1&quot;</td><td>&quot;p.K57E&quot;</td><td>&quot;non_synonymous_codon&quot;</td><td>0.262</td><td>485.0</td></tr><tr><td>&quot;KYW142&quot;</td><td>&quot;1&quot;</td><td>1.747229e6</td><td>1.747229e6</td><td>&quot;T&quot;</td><td>&quot;C&quot;</td><td>&quot;GNB1&quot;</td><td>&quot;p.K57E&quot;</td><td>&quot;non_synonymous_codon&quot;</td><td>0.028</td><td>527.0</td></tr><tr><td>&quot;KYW453&quot;</td><td>&quot;1&quot;</td><td>1.747229e6</td><td>1.747229e6</td><td>&quot;T&quot;</td><td>&quot;C&quot;</td><td>&quot;GNB1&quot;</td><td>&quot;p.K57E&quot;</td><td>&quot;non_synonymous_codon&quot;</td><td>0.292</td><td>277.0</td></tr><tr><td>&quot;KYW982&quot;</td><td>&quot;1&quot;</td><td>1.747229e6</td><td>1.747229e6</td><td>&quot;T&quot;</td><td>&quot;C&quot;</td><td>&quot;GNB1&quot;</td><td>&quot;p.K57E&quot;</td><td>&quot;non_synonymous_codon&quot;</td><td>0.097</td><td>821.0</td></tr><tr><td>&quot;KYW845&quot;</td><td>&quot;1&quot;</td><td>3.6932209e7</td><td>3.6932209e7</td><td>&quot;G&quot;</td><td>&quot;A&quot;</td><td>&quot;CSF3R&quot;</td><td>&quot;p.Q754X&quot;</td><td>&quot;stop_gained&quot;</td><td>0.43</td><td>358.0</td></tr><tr><td>&hellip;</td><td>&hellip;</td><td>&hellip;</td><td>&hellip;</td><td>&hellip;</td><td>&hellip;</td><td>&hellip;</td><td>&hellip;</td><td>&hellip;</td><td>&hellip;</td><td>&hellip;</td></tr><tr><td>&quot;KYW1077&quot;</td><td>null</td><td>null</td><td>null</td><td>null</td><td>null</td><td>&quot;MLL&quot;</td><td>&quot;MLL_PTD&quot;</td><td>&quot;PTD&quot;</td><td>0.4231</td><td>null</td></tr><tr><td>&quot;KYW1084&quot;</td><td>null</td><td>null</td><td>null</td><td>null</td><td>null</td><td>&quot;MLL&quot;</td><td>&quot;MLL_PTD&quot;</td><td>&quot;PTD&quot;</td><td>0.0176</td><td>null</td></tr><tr><td>&quot;KYW1082&quot;</td><td>null</td><td>null</td><td>null</td><td>null</td><td>null</td><td>&quot;MLL&quot;</td><td>&quot;MLL_PTD&quot;</td><td>&quot;PTD&quot;</td><td>0.2273</td><td>null</td></tr><tr><td>&quot;KYW1085&quot;</td><td>null</td><td>null</td><td>null</td><td>null</td><td>null</td><td>&quot;MLL&quot;</td><td>&quot;MLL_PTD&quot;</td><td>&quot;PTD&quot;</td><td>0.2941</td><td>null</td></tr><tr><td>&quot;KYW1095&quot;</td><td>null</td><td>null</td><td>null</td><td>null</td><td>null</td><td>&quot;MLL&quot;</td><td>&quot;MLL_PTD&quot;</td><td>&quot;PTD&quot;</td><td>0.3272</td><td>null</td></tr></tbody></table></div>"
      ],
      "text/plain": [
       "shape: (3_089, 11)\n",
       "┌─────────┬──────┬─────────────┬─────────────┬───┬────────────────┬───────────────┬────────┬───────┐\n",
       "│ ID      ┆ CHR  ┆ START       ┆ END         ┆ … ┆ PROTEIN_CHANGE ┆ EFFECT        ┆ VAF    ┆ DEPTH │\n",
       "│ ---     ┆ ---  ┆ ---         ┆ ---         ┆   ┆ ---            ┆ ---           ┆ ---    ┆ ---   │\n",
       "│ str     ┆ str  ┆ f64         ┆ f64         ┆   ┆ str            ┆ str           ┆ f64    ┆ f64   │\n",
       "╞═════════╪══════╪═════════════╪═════════════╪═══╪════════════════╪═══════════════╪════════╪═══════╡\n",
       "│ KYW961  ┆ 1    ┆ 1.747229e6  ┆ 1.747229e6  ┆ … ┆ p.K57E         ┆ non_synonymou ┆ 0.262  ┆ 485.0 │\n",
       "│         ┆      ┆             ┆             ┆   ┆                ┆ s_codon       ┆        ┆       │\n",
       "│ KYW142  ┆ 1    ┆ 1.747229e6  ┆ 1.747229e6  ┆ … ┆ p.K57E         ┆ non_synonymou ┆ 0.028  ┆ 527.0 │\n",
       "│         ┆      ┆             ┆             ┆   ┆                ┆ s_codon       ┆        ┆       │\n",
       "│ KYW453  ┆ 1    ┆ 1.747229e6  ┆ 1.747229e6  ┆ … ┆ p.K57E         ┆ non_synonymou ┆ 0.292  ┆ 277.0 │\n",
       "│         ┆      ┆             ┆             ┆   ┆                ┆ s_codon       ┆        ┆       │\n",
       "│ KYW982  ┆ 1    ┆ 1.747229e6  ┆ 1.747229e6  ┆ … ┆ p.K57E         ┆ non_synonymou ┆ 0.097  ┆ 821.0 │\n",
       "│         ┆      ┆             ┆             ┆   ┆                ┆ s_codon       ┆        ┆       │\n",
       "│ KYW845  ┆ 1    ┆ 3.6932209e7 ┆ 3.6932209e7 ┆ … ┆ p.Q754X        ┆ stop_gained   ┆ 0.43   ┆ 358.0 │\n",
       "│ …       ┆ …    ┆ …           ┆ …           ┆ … ┆ …              ┆ …             ┆ …      ┆ …     │\n",
       "│ KYW1077 ┆ null ┆ null        ┆ null        ┆ … ┆ MLL_PTD        ┆ PTD           ┆ 0.4231 ┆ null  │\n",
       "│ KYW1084 ┆ null ┆ null        ┆ null        ┆ … ┆ MLL_PTD        ┆ PTD           ┆ 0.0176 ┆ null  │\n",
       "│ KYW1082 ┆ null ┆ null        ┆ null        ┆ … ┆ MLL_PTD        ┆ PTD           ┆ 0.2273 ┆ null  │\n",
       "│ KYW1085 ┆ null ┆ null        ┆ null        ┆ … ┆ MLL_PTD        ┆ PTD           ┆ 0.2941 ┆ null  │\n",
       "│ KYW1095 ┆ null ┆ null        ┆ null        ┆ … ┆ MLL_PTD        ┆ PTD           ┆ 0.3272 ┆ null  │\n",
       "└─────────┴──────┴─────────────┴─────────────┴───┴────────────────┴───────────────┴────────┴───────┘"
      ]
     },
     "execution_count": 33,
     "metadata": {},
     "output_type": "execute_result"
    }
   ],
   "source": [
    "df_testmolecular"
   ]
  },
  {
   "cell_type": "code",
   "execution_count": null,
   "id": "9d38d217-acca-4548-98a9-48c2d60cd659",
   "metadata": {},
   "outputs": [],
   "source": []
  }
 ],
 "metadata": {
  "kernelspec": {
   "display_name": "Python 3 (ipykernel)",
   "language": "python",
   "name": "python3"
  },
  "language_info": {
   "codemirror_mode": {
    "name": "ipython",
    "version": 3
   },
   "file_extension": ".py",
   "mimetype": "text/x-python",
   "name": "python",
   "nbconvert_exporter": "python",
   "pygments_lexer": "ipython3",
   "version": "3.9.6"
  }
 },
 "nbformat": 4,
 "nbformat_minor": 5
}
