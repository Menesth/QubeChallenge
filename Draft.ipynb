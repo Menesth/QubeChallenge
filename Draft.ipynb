{
 "cells": [
  {
   "cell_type": "code",
   "execution_count": 11,
   "id": "95fa9952-b6d0-4665-afba-4c504089ff86",
   "metadata": {},
   "outputs": [],
   "source": [
    "import polars as pl\n",
    "import numpy as np\n",
    "\n",
    "Trainclinical = \"/Users/thibautmenes/Desktop/QubeChallenge/RawData/TrainDataset/Trainclinical.csv\"\n",
    "Trainmolecular = \"/Users/thibautmenes/Desktop/QubeChallenge/RawData/TrainDataset/Trainmolecular.csv\"\n",
    "Ytrain = \"/Users/thibautmenes/Desktop/QubeChallenge/RawData/TrainDataset/Ytrain.csv\"\n",
    "\n",
    "dfclinical = pl.read_csv(Trainclinical)\n",
    "dfmolecular = pl.read_csv(Trainmolecular)\n",
    "dfYtrain = pl.read_csv(Ytrain)"
   ]
  },
  {
   "cell_type": "code",
   "execution_count": 12,
   "id": "af4f9c5d-0609-460f-a2fc-c9bd48d3338c",
   "metadata": {},
   "outputs": [
    {
     "data": {
      "text/plain": [
       "((3323, 9), (10935, 11), (3323, 3))"
      ]
     },
     "execution_count": 12,
     "metadata": {},
     "output_type": "execute_result"
    }
   ],
   "source": [
    "dfclinical.shape, dfmolecular.shape, dfYtrain.shape"
   ]
  },
  {
   "cell_type": "code",
   "execution_count": null,
   "id": "33757bf7-84ad-428c-8f92-91e6eafdbbde",
   "metadata": {},
   "outputs": [],
   "source": []
  }
 ],
 "metadata": {
  "kernelspec": {
   "display_name": "Python 3 (ipykernel)",
   "language": "python",
   "name": "python3"
  },
  "language_info": {
   "codemirror_mode": {
    "name": "ipython",
    "version": 3
   },
   "file_extension": ".py",
   "mimetype": "text/x-python",
   "name": "python",
   "nbconvert_exporter": "python",
   "pygments_lexer": "ipython3",
   "version": "3.9.6"
  }
 },
 "nbformat": 4,
 "nbformat_minor": 5
}
