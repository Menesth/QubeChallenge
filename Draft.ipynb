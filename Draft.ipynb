{
 "cells": [
  {
   "cell_type": "code",
   "execution_count": 131,
   "id": "2632e21e-25a4-4e8e-9b95-b974e9cd4354",
   "metadata": {},
   "outputs": [
    {
     "data": {
      "text/plain": [
       "(3173, 3)"
      ]
     },
     "execution_count": 131,
     "metadata": {},
     "output_type": "execute_result"
    }
   ],
   "source": [
    "import os\n",
    "import polars as pl\n",
    "import matplotlib.pyplot as plt\n",
    "\n",
    "base_dir = os.path.expanduser(\"~/\")\n",
    "traindatasetpath = os.path.join(base_dir, \"Desktop/QubeChallenge/ModifiedData/TrainDataset/Traindataset.csv\")\n",
    "ytrainpath = os.path.join(base_dir, \"Desktop/QubeChallenge/ModifiedData/TrainDataset/Ytrain.csv\")\n",
    "\n",
    "testdatasetpath = os.path.join(base_dir, \"Desktop/QubeChallenge/ModifiedData/TestDataset/Testdataset.csv\")\n",
    "\n",
    "traindataset = pl.read_csv(traindatasetpath)\n",
    "ytrain = pl.read_csv(ytrainpath)\n",
    "testdataset = pl.read_csv(testdatasetpath)\n",
    "\n",
    "ytrain.shape"
   ]
  },
  {
   "cell_type": "code",
   "execution_count": 132,
   "id": "0bbc7e53-6155-4b97-824b-f71e303a11f6",
   "metadata": {},
   "outputs": [
    {
     "data": {
      "text/html": [
       "<div><style>\n",
       ".dataframe > thead > tr,\n",
       ".dataframe > tbody > tr {\n",
       "  text-align: right;\n",
       "  white-space: pre-wrap;\n",
       "}\n",
       "</style>\n",
       "<small>shape: (3_173, 52)</small><table border=\"1\" class=\"dataframe\"><thead><tr><th>ID</th><th>BM_BLAST</th><th>WBC</th><th>ANC</th><th>MONOCYTES</th><th>HB</th><th>PLT</th><th>CYTOGEN_COMPLEXITY</th><th>VAF</th><th>DEPTH</th><th>log(DEPTH)</th><th>DEPTH*VAF</th><th>log(DEPTH)*VAF</th><th>MUTATION_LEN</th><th>CHRX</th><th>CHR1</th><th>CHR2</th><th>CHR3</th><th>CHR4</th><th>CHR5</th><th>CHR6</th><th>CHR7</th><th>CHR8</th><th>CHR9</th><th>CHR10</th><th>CHR11</th><th>CHR12</th><th>CHR13</th><th>CHR15</th><th>CHR16</th><th>CHR17</th><th>CHR18</th><th>CHR19</th><th>CHR20</th><th>CHR21</th><th>CHR22</th><th>NSC</th><th>ITD</th><th>PTD</th><th>ICG</th><th>ICL</th><th>SL</th><th>SG</th><th>FV</th><th>TSG</th><th>ONCO</th><th>EPIG</th><th>DNADRG</th><th>SF</th><th>TF</th><th>STG</th><th>CCG</th></tr><tr><td>i64</td><td>f64</td><td>f64</td><td>f64</td><td>f64</td><td>f64</td><td>f64</td><td>i64</td><td>f64</td><td>f64</td><td>f64</td><td>f64</td><td>f64</td><td>f64</td><td>i64</td><td>i64</td><td>i64</td><td>i64</td><td>i64</td><td>i64</td><td>i64</td><td>i64</td><td>i64</td><td>i64</td><td>i64</td><td>i64</td><td>i64</td><td>i64</td><td>i64</td><td>i64</td><td>i64</td><td>i64</td><td>i64</td><td>i64</td><td>i64</td><td>i64</td><td>i64</td><td>i64</td><td>i64</td><td>i64</td><td>i64</td><td>i64</td><td>i64</td><td>i64</td><td>i64</td><td>i64</td><td>i64</td><td>i64</td><td>i64</td><td>i64</td><td>i64</td><td>i64</td></tr></thead><tbody><tr><td>100000</td><td>0.032967</td><td>0.047341</td><td>0.042419</td><td>0.008371</td><td>0.380952</td><td>0.278813</td><td>1</td><td>0.290299</td><td>0.191417</td><td>0.694839</td><td>0.105277</td><td>0.265902</td><td>0.018519</td><td>0</td><td>1</td><td>1</td><td>1</td><td>1</td><td>1</td><td>0</td><td>0</td><td>0</td><td>0</td><td>0</td><td>1</td><td>0</td><td>0</td><td>0</td><td>0</td><td>0</td><td>0</td><td>0</td><td>0</td><td>0</td><td>0</td><td>1</td><td>0</td><td>0</td><td>0</td><td>0</td><td>0</td><td>1</td><td>1</td><td>0</td><td>0</td><td>1</td><td>0</td><td>0</td><td>0</td><td>0</td><td>0</td></tr><tr><td>100001</td><td>0.021978</td><td>0.04546</td><td>0.026273</td><td>0.008371</td><td>0.460317</td><td>0.249827</td><td>2</td><td>0.247162</td><td>0.121609</td><td>0.624049</td><td>0.063093</td><td>0.21515</td><td>0.0</td><td>0</td><td>0</td><td>1</td><td>1</td><td>0</td><td>0</td><td>0</td><td>0</td><td>0</td><td>0</td><td>0</td><td>0</td><td>0</td><td>0</td><td>0</td><td>0</td><td>0</td><td>0</td><td>0</td><td>0</td><td>0</td><td>1</td><td>1</td><td>0</td><td>0</td><td>0</td><td>0</td><td>0</td><td>1</td><td>0</td><td>0</td><td>0</td><td>0</td><td>0</td><td>0</td><td>0</td><td>0</td><td>0</td></tr><tr><td>100002</td><td>0.164835</td><td>0.015564</td><td>0.00447</td><td>0.008371</td><td>0.388889</td><td>0.022774</td><td>4</td><td>0.389061</td><td>0.089453</td><td>0.56618</td><td>0.083099</td><td>0.329023</td><td>0.0</td><td>0</td><td>1</td><td>0</td><td>1</td><td>0</td><td>0</td><td>0</td><td>1</td><td>0</td><td>0</td><td>0</td><td>0</td><td>0</td><td>0</td><td>0</td><td>0</td><td>1</td><td>0</td><td>0</td><td>0</td><td>0</td><td>0</td><td>1</td><td>0</td><td>0</td><td>0</td><td>0</td><td>0</td><td>1</td><td>0</td><td>1</td><td>0</td><td>0</td><td>0</td><td>0</td><td>0</td><td>0</td><td>0</td></tr><tr><td>100004</td><td>0.032967</td><td>0.01524</td><td>0.014231</td><td>0.008371</td><td>0.238095</td><td>0.487233</td><td>0</td><td>0.463467</td><td>0.299345</td><td>0.783616</td><td>0.29758</td><td>0.466078</td><td>0.006944</td><td>1</td><td>0</td><td>0</td><td>0</td><td>0</td><td>0</td><td>0</td><td>0</td><td>0</td><td>0</td><td>0</td><td>0</td><td>0</td><td>0</td><td>0</td><td>0</td><td>0</td><td>0</td><td>0</td><td>0</td><td>0</td><td>0</td><td>0</td><td>0</td><td>0</td><td>0</td><td>0</td><td>0</td><td>0</td><td>1</td><td>0</td><td>0</td><td>0</td><td>0</td><td>0</td><td>0</td><td>0</td><td>1</td></tr><tr><td>100005</td><td>0.021978</td><td>0.013684</td><td>0.011403</td><td>0.008371</td><td>0.619048</td><td>0.095928</td><td>0</td><td>0.286636</td><td>0.230122</td><td>0.729632</td><td>0.135263</td><td>0.272663</td><td>0.002315</td><td>0</td><td>0</td><td>0</td><td>0</td><td>0</td><td>0</td><td>0</td><td>0</td><td>0</td><td>0</td><td>0</td><td>0</td><td>0</td><td>0</td><td>0</td><td>0</td><td>0</td><td>0</td><td>0</td><td>0</td><td>0</td><td>0</td><td>0</td><td>0</td><td>0</td><td>0</td><td>0</td><td>0</td><td>0</td><td>0</td><td>0</td><td>0</td><td>0</td><td>0</td><td>0</td><td>0</td><td>0</td><td>0</td></tr><tr><td>&hellip;</td><td>&hellip;</td><td>&hellip;</td><td>&hellip;</td><td>&hellip;</td><td>&hellip;</td><td>&hellip;</td><td>&hellip;</td><td>&hellip;</td><td>&hellip;</td><td>&hellip;</td><td>&hellip;</td><td>&hellip;</td><td>&hellip;</td><td>&hellip;</td><td>&hellip;</td><td>&hellip;</td><td>&hellip;</td><td>&hellip;</td><td>&hellip;</td><td>&hellip;</td><td>&hellip;</td><td>&hellip;</td><td>&hellip;</td><td>&hellip;</td><td>&hellip;</td><td>&hellip;</td><td>&hellip;</td><td>&hellip;</td><td>&hellip;</td><td>&hellip;</td><td>&hellip;</td><td>&hellip;</td><td>&hellip;</td><td>&hellip;</td><td>&hellip;</td><td>&hellip;</td><td>&hellip;</td><td>&hellip;</td><td>&hellip;</td><td>&hellip;</td><td>&hellip;</td><td>&hellip;</td><td>&hellip;</td><td>&hellip;</td><td>&hellip;</td><td>&hellip;</td><td>&hellip;</td><td>&hellip;</td><td>&hellip;</td><td>&hellip;</td><td>&hellip;</td></tr><tr><td>132725</td><td>0.131868</td><td>0.011673</td><td>0.005473</td><td>0.004525</td><td>0.595238</td><td>0.040718</td><td>0</td><td>0.530031</td><td>0.401123</td><td>0.83039</td><td>0.429199</td><td>0.547656</td><td>0.001389</td><td>1</td><td>1</td><td>1</td><td>1</td><td>0</td><td>1</td><td>0</td><td>0</td><td>0</td><td>0</td><td>0</td><td>0</td><td>0</td><td>0</td><td>1</td><td>0</td><td>0</td><td>0</td><td>0</td><td>1</td><td>1</td><td>0</td><td>1</td><td>0</td><td>0</td><td>0</td><td>0</td><td>0</td><td>1</td><td>1</td><td>0</td><td>0</td><td>1</td><td>0</td><td>1</td><td>0</td><td>0</td><td>1</td></tr><tr><td>132726</td><td>0.164835</td><td>0.011025</td><td>0.004561</td><td>0.0</td><td>0.571429</td><td>0.26294</td><td>0</td><td>0.256966</td><td>0.297942</td><td>0.782778</td><td>0.168041</td><td>0.258811</td><td>0.0</td><td>0</td><td>1</td><td>0</td><td>0</td><td>0</td><td>0</td><td>0</td><td>0</td><td>0</td><td>0</td><td>0</td><td>1</td><td>0</td><td>0</td><td>0</td><td>0</td><td>0</td><td>0</td><td>0</td><td>0</td><td>0</td><td>0</td><td>0</td><td>0</td><td>0</td><td>0</td><td>0</td><td>0</td><td>1</td><td>0</td><td>0</td><td>0</td><td>0</td><td>0</td><td>0</td><td>0</td><td>0</td><td>0</td></tr><tr><td>132727</td><td>0.054945</td><td>0.013619</td><td>0.009122</td><td>0.00905</td><td>0.579365</td><td>0.028986</td><td>0</td><td>0.31192</td><td>0.299111</td><td>0.780242</td><td>0.198448</td><td>0.312211</td><td>0.006944</td><td>0</td><td>1</td><td>1</td><td>0</td><td>0</td><td>0</td><td>0</td><td>0</td><td>0</td><td>0</td><td>0</td><td>1</td><td>0</td><td>0</td><td>0</td><td>0</td><td>0</td><td>0</td><td>0</td><td>1</td><td>0</td><td>0</td><td>0</td><td>0</td><td>0</td><td>0</td><td>0</td><td>0</td><td>1</td><td>1</td><td>0</td><td>0</td><td>1</td><td>0</td><td>0</td><td>0</td><td>0</td><td>0</td></tr><tr><td>132728</td><td>0.021978</td><td>0.289883</td><td>0.365809</td><td>0.052036</td><td>0.333333</td><td>0.008282</td><td>1</td><td>0.436161</td><td>0.31188</td><td>0.789344</td><td>0.292633</td><td>0.440787</td><td>0.004167</td><td>0</td><td>1</td><td>1</td><td>1</td><td>0</td><td>0</td><td>0</td><td>0</td><td>0</td><td>0</td><td>0</td><td>0</td><td>0</td><td>0</td><td>0</td><td>0</td><td>0</td><td>0</td><td>0</td><td>0</td><td>1</td><td>0</td><td>1</td><td>0</td><td>0</td><td>0</td><td>1</td><td>0</td><td>1</td><td>0</td><td>0</td><td>1</td><td>0</td><td>0</td><td>1</td><td>1</td><td>0</td><td>0</td></tr><tr><td>132729</td><td>0.21978</td><td>0.007134</td><td>0.004561</td><td>0.0</td><td>0.690476</td><td>0.100069</td><td>0</td><td>0.240531</td><td>0.146925</td><td>0.656844</td><td>0.074276</td><td>0.215779</td><td>0.039931</td><td>0</td><td>0</td><td>1</td><td>0</td><td>0</td><td>1</td><td>0</td><td>0</td><td>0</td><td>0</td><td>0</td><td>0</td><td>0</td><td>0</td><td>0</td><td>0</td><td>0</td><td>0</td><td>0</td><td>1</td><td>0</td><td>0</td><td>1</td><td>0</td><td>0</td><td>0</td><td>0</td><td>0</td><td>0</td><td>1</td><td>0</td><td>0</td><td>1</td><td>0</td><td>0</td><td>0</td><td>0</td><td>0</td></tr></tbody></table></div>"
      ],
      "text/plain": [
       "shape: (3_173, 52)\n",
       "┌────────┬──────────┬──────────┬──────────┬───┬─────┬─────┬─────┬─────┐\n",
       "│ ID     ┆ BM_BLAST ┆ WBC      ┆ ANC      ┆ … ┆ SF  ┆ TF  ┆ STG ┆ CCG │\n",
       "│ ---    ┆ ---      ┆ ---      ┆ ---      ┆   ┆ --- ┆ --- ┆ --- ┆ --- │\n",
       "│ i64    ┆ f64      ┆ f64      ┆ f64      ┆   ┆ i64 ┆ i64 ┆ i64 ┆ i64 │\n",
       "╞════════╪══════════╪══════════╪══════════╪═══╪═════╪═════╪═════╪═════╡\n",
       "│ 100000 ┆ 0.032967 ┆ 0.047341 ┆ 0.042419 ┆ … ┆ 0   ┆ 0   ┆ 0   ┆ 0   │\n",
       "│ 100001 ┆ 0.021978 ┆ 0.04546  ┆ 0.026273 ┆ … ┆ 0   ┆ 0   ┆ 0   ┆ 0   │\n",
       "│ 100002 ┆ 0.164835 ┆ 0.015564 ┆ 0.00447  ┆ … ┆ 0   ┆ 0   ┆ 0   ┆ 0   │\n",
       "│ 100004 ┆ 0.032967 ┆ 0.01524  ┆ 0.014231 ┆ … ┆ 0   ┆ 0   ┆ 0   ┆ 1   │\n",
       "│ 100005 ┆ 0.021978 ┆ 0.013684 ┆ 0.011403 ┆ … ┆ 0   ┆ 0   ┆ 0   ┆ 0   │\n",
       "│ …      ┆ …        ┆ …        ┆ …        ┆ … ┆ …   ┆ …   ┆ …   ┆ …   │\n",
       "│ 132725 ┆ 0.131868 ┆ 0.011673 ┆ 0.005473 ┆ … ┆ 1   ┆ 0   ┆ 0   ┆ 1   │\n",
       "│ 132726 ┆ 0.164835 ┆ 0.011025 ┆ 0.004561 ┆ … ┆ 0   ┆ 0   ┆ 0   ┆ 0   │\n",
       "│ 132727 ┆ 0.054945 ┆ 0.013619 ┆ 0.009122 ┆ … ┆ 0   ┆ 0   ┆ 0   ┆ 0   │\n",
       "│ 132728 ┆ 0.021978 ┆ 0.289883 ┆ 0.365809 ┆ … ┆ 1   ┆ 1   ┆ 0   ┆ 0   │\n",
       "│ 132729 ┆ 0.21978  ┆ 0.007134 ┆ 0.004561 ┆ … ┆ 0   ┆ 0   ┆ 0   ┆ 0   │\n",
       "└────────┴──────────┴──────────┴──────────┴───┴─────┴─────┴─────┴─────┘"
      ]
     },
     "execution_count": 132,
     "metadata": {},
     "output_type": "execute_result"
    }
   ],
   "source": [
    "traindataset"
   ]
  },
  {
   "cell_type": "code",
   "execution_count": 133,
   "id": "1a2407c0-12b5-48a1-ab36-15ca3d828538",
   "metadata": {},
   "outputs": [
    {
     "data": {
      "text/html": [
       "<div><style>\n",
       ".dataframe > thead > tr,\n",
       ".dataframe > tbody > tr {\n",
       "  text-align: right;\n",
       "  white-space: pre-wrap;\n",
       "}\n",
       "</style>\n",
       "<small>shape: (1_193, 52)</small><table border=\"1\" class=\"dataframe\"><thead><tr><th>ID</th><th>BM_BLAST</th><th>WBC</th><th>ANC</th><th>MONOCYTES</th><th>HB</th><th>PLT</th><th>CYTOGEN_COMPLEXITY</th><th>VAF</th><th>DEPTH</th><th>log(DEPTH)</th><th>DEPTH*VAF</th><th>log(DEPTH)*VAF</th><th>MUTATION_LEN</th><th>CHRX</th><th>CHR1</th><th>CHR2</th><th>CHR3</th><th>CHR4</th><th>CHR5</th><th>CHR6</th><th>CHR7</th><th>CHR8</th><th>CHR9</th><th>CHR10</th><th>CHR11</th><th>CHR12</th><th>CHR13</th><th>CHR15</th><th>CHR16</th><th>CHR17</th><th>CHR18</th><th>CHR19</th><th>CHR20</th><th>CHR21</th><th>CHR22</th><th>NSC</th><th>ITD</th><th>PTD</th><th>ICG</th><th>ICL</th><th>SL</th><th>SG</th><th>FV</th><th>TSG</th><th>ONCO</th><th>EPIG</th><th>DNADRG</th><th>SF</th><th>TF</th><th>STG</th><th>CCG</th></tr><tr><td>i64</td><td>f64</td><td>f64</td><td>f64</td><td>f64</td><td>f64</td><td>f64</td><td>i64</td><td>f64</td><td>f64</td><td>f64</td><td>f64</td><td>f64</td><td>f64</td><td>i64</td><td>i64</td><td>i64</td><td>i64</td><td>i64</td><td>i64</td><td>i64</td><td>i64</td><td>i64</td><td>i64</td><td>i64</td><td>i64</td><td>i64</td><td>i64</td><td>i64</td><td>i64</td><td>i64</td><td>i64</td><td>i64</td><td>i64</td><td>i64</td><td>i64</td><td>i64</td><td>i64</td><td>i64</td><td>i64</td><td>i64</td><td>i64</td><td>i64</td><td>i64</td><td>i64</td><td>i64</td><td>i64</td><td>i64</td><td>i64</td><td>i64</td><td>i64</td><td>i64</td></tr></thead><tbody><tr><td>1</td><td>0.708333</td><td>0.010204</td><td>0.007703</td><td>0.007945</td><td>0.232227</td><td>0.022326</td><td>2</td><td>0.233222</td><td>0.297064</td><td>0.662569</td><td>0.12575</td><td>0.212461</td><td>0.0</td><td>1</td><td>0</td><td>1</td><td>0</td><td>0</td><td>1</td><td>0</td><td>0</td><td>0</td><td>0</td><td>0</td><td>0</td><td>0</td><td>0</td><td>0</td><td>0</td><td>0</td><td>0</td><td>0</td><td>0</td><td>0</td><td>0</td><td>1</td><td>1</td><td>0</td><td>0</td><td>0</td><td>0</td><td>1</td><td>1</td><td>0</td><td>1</td><td>1</td><td>0</td><td>0</td><td>0</td><td>0</td><td>0</td></tr><tr><td>2</td><td>0.364583</td><td>0.009406</td><td>0.016288</td><td>0.007945</td><td>0.345972</td><td>0.014884</td><td>3</td><td>0.269072</td><td>0.397498</td><td>0.746179</td><td>0.126226</td><td>0.241767</td><td>0.0</td><td>1</td><td>1</td><td>1</td><td>0</td><td>0</td><td>0</td><td>0</td><td>0</td><td>0</td><td>0</td><td>0</td><td>0</td><td>1</td><td>0</td><td>0</td><td>0</td><td>0</td><td>0</td><td>0</td><td>0</td><td>0</td><td>0</td><td>1</td><td>0</td><td>0</td><td>0</td><td>0</td><td>0</td><td>1</td><td>0</td><td>0</td><td>1</td><td>0</td><td>0</td><td>0</td><td>0</td><td>0</td><td>0</td></tr><tr><td>3</td><td>0.0625</td><td>0.036676</td><td>0.114</td><td>0.007945</td><td>0.454976</td><td>0.011628</td><td>1</td><td>0.147079</td><td>0.656578</td><td>0.888056</td><td>0.174127</td><td>0.153824</td><td>0.014493</td><td>0</td><td>0</td><td>1</td><td>0</td><td>1</td><td>0</td><td>0</td><td>0</td><td>0</td><td>0</td><td>0</td><td>0</td><td>0</td><td>0</td><td>0</td><td>0</td><td>0</td><td>0</td><td>0</td><td>1</td><td>0</td><td>0</td><td>0</td><td>0</td><td>0</td><td>0</td><td>0</td><td>0</td><td>1</td><td>1</td><td>0</td><td>0</td><td>1</td><td>0</td><td>0</td><td>0</td><td>0</td><td>0</td></tr><tr><td>4</td><td>0.635417</td><td>0.016415</td><td>0.02697</td><td>0.007945</td><td>0.251185</td><td>0.020465</td><td>1</td><td>0.341615</td><td>0.575061</td><td>0.830799</td><td>0.356048</td><td>0.347604</td><td>0.0</td><td>0</td><td>1</td><td>1</td><td>0</td><td>0</td><td>0</td><td>0</td><td>0</td><td>0</td><td>0</td><td>0</td><td>1</td><td>0</td><td>0</td><td>0</td><td>0</td><td>0</td><td>0</td><td>0</td><td>0</td><td>1</td><td>0</td><td>0</td><td>1</td><td>0</td><td>0</td><td>0</td><td>0</td><td>1</td><td>1</td><td>0</td><td>1</td><td>0</td><td>0</td><td>0</td><td>1</td><td>0</td><td>0</td></tr><tr><td>5</td><td>0.020833</td><td>0.003579</td><td>0.009694</td><td>0.007945</td><td>0.279621</td><td>0.012558</td><td>5</td><td>0.251203</td><td>0.467716</td><td>0.798853</td><td>0.197053</td><td>0.246444</td><td>0.0</td><td>0</td><td>1</td><td>1</td><td>0</td><td>0</td><td>0</td><td>0</td><td>1</td><td>0</td><td>0</td><td>0</td><td>0</td><td>0</td><td>0</td><td>0</td><td>0</td><td>1</td><td>0</td><td>0</td><td>1</td><td>1</td><td>0</td><td>1</td><td>0</td><td>0</td><td>0</td><td>0</td><td>0</td><td>1</td><td>0</td><td>0</td><td>0</td><td>1</td><td>0</td><td>1</td><td>0</td><td>0</td><td>0</td></tr><tr><td>&hellip;</td><td>&hellip;</td><td>&hellip;</td><td>&hellip;</td><td>&hellip;</td><td>&hellip;</td><td>&hellip;</td><td>&hellip;</td><td>&hellip;</td><td>&hellip;</td><td>&hellip;</td><td>&hellip;</td><td>&hellip;</td><td>&hellip;</td><td>&hellip;</td><td>&hellip;</td><td>&hellip;</td><td>&hellip;</td><td>&hellip;</td><td>&hellip;</td><td>&hellip;</td><td>&hellip;</td><td>&hellip;</td><td>&hellip;</td><td>&hellip;</td><td>&hellip;</td><td>&hellip;</td><td>&hellip;</td><td>&hellip;</td><td>&hellip;</td><td>&hellip;</td><td>&hellip;</td><td>&hellip;</td><td>&hellip;</td><td>&hellip;</td><td>&hellip;</td><td>&hellip;</td><td>&hellip;</td><td>&hellip;</td><td>&hellip;</td><td>&hellip;</td><td>&hellip;</td><td>&hellip;</td><td>&hellip;</td><td>&hellip;</td><td>&hellip;</td><td>&hellip;</td><td>&hellip;</td><td>&hellip;</td><td>&hellip;</td><td>&hellip;</td><td>&hellip;</td></tr><tr><td>1189</td><td>0.0625</td><td>0.008577</td><td>0.017021</td><td>0.007945</td><td>0.270142</td><td>0.034419</td><td>0</td><td>0.43866</td><td>0.368947</td><td>0.72116</td><td>0.273322</td><td>0.411836</td><td>0.0</td><td>0</td><td>1</td><td>0</td><td>0</td><td>0</td><td>0</td><td>1</td><td>0</td><td>0</td><td>0</td><td>0</td><td>1</td><td>0</td><td>0</td><td>0</td><td>0</td><td>0</td><td>0</td><td>0</td><td>0</td><td>0</td><td>0</td><td>1</td><td>0</td><td>0</td><td>0</td><td>0</td><td>0</td><td>0</td><td>0</td><td>0</td><td>0</td><td>0</td><td>0</td><td>0</td><td>0</td><td>0</td><td>0</td></tr><tr><td>1190</td><td>0.0625</td><td>0.008577</td><td>0.017021</td><td>0.007945</td><td>0.270142</td><td>0.034419</td><td>0</td><td>0.431615</td><td>0.106134</td><td>0.416374</td><td>0.073542</td><td>0.321635</td><td>0.188406</td><td>0</td><td>1</td><td>0</td><td>0</td><td>1</td><td>0</td><td>0</td><td>0</td><td>0</td><td>0</td><td>0</td><td>1</td><td>0</td><td>0</td><td>0</td><td>0</td><td>0</td><td>0</td><td>0</td><td>0</td><td>0</td><td>0</td><td>1</td><td>0</td><td>0</td><td>0</td><td>0</td><td>0</td><td>0</td><td>1</td><td>0</td><td>1</td><td>1</td><td>0</td><td>0</td><td>0</td><td>0</td><td>0</td></tr><tr><td>1191</td><td>0.0625</td><td>0.008577</td><td>0.017021</td><td>0.007945</td><td>0.270142</td><td>0.034419</td><td>0</td><td>0.105155</td><td>0.541162</td><td>0.837814</td><td>0.102749</td><td>0.106625</td><td>0.0</td><td>0</td><td>1</td><td>0</td><td>0</td><td>0</td><td>0</td><td>0</td><td>1</td><td>0</td><td>0</td><td>0</td><td>0</td><td>0</td><td>0</td><td>0</td><td>0</td><td>1</td><td>0</td><td>0</td><td>0</td><td>0</td><td>0</td><td>1</td><td>0</td><td>0</td><td>0</td><td>0</td><td>0</td><td>0</td><td>0</td><td>1</td><td>0</td><td>0</td><td>0</td><td>0</td><td>0</td><td>0</td><td>0</td></tr><tr><td>1192</td><td>0.0625</td><td>0.008577</td><td>0.017021</td><td>0.007945</td><td>0.270142</td><td>0.034419</td><td>0</td><td>0.294502</td><td>0.281073</td><td>0.663846</td><td>0.13607</td><td>0.264815</td><td>0.0</td><td>0</td><td>0</td><td>0</td><td>0</td><td>0</td><td>1</td><td>0</td><td>1</td><td>0</td><td>0</td><td>0</td><td>0</td><td>0</td><td>0</td><td>0</td><td>0</td><td>0</td><td>0</td><td>0</td><td>0</td><td>0</td><td>0</td><td>1</td><td>0</td><td>0</td><td>0</td><td>0</td><td>0</td><td>0</td><td>1</td><td>0</td><td>0</td><td>0</td><td>0</td><td>0</td><td>0</td><td>0</td><td>0</td></tr><tr><td>1193</td><td>0.0625</td><td>0.008577</td><td>0.017021</td><td>0.007945</td><td>0.270142</td><td>0.034419</td><td>0</td><td>0.563402</td><td>0.185835</td><td>0.564985</td><td>0.173192</td><td>0.474642</td><td>0.0</td><td>0</td><td>1</td><td>0</td><td>0</td><td>0</td><td>0</td><td>0</td><td>1</td><td>0</td><td>0</td><td>1</td><td>0</td><td>0</td><td>0</td><td>0</td><td>0</td><td>1</td><td>0</td><td>0</td><td>0</td><td>0</td><td>0</td><td>1</td><td>0</td><td>0</td><td>0</td><td>0</td><td>0</td><td>0</td><td>0</td><td>1</td><td>0</td><td>0</td><td>0</td><td>0</td><td>0</td><td>0</td><td>1</td></tr></tbody></table></div>"
      ],
      "text/plain": [
       "shape: (1_193, 52)\n",
       "┌──────┬──────────┬──────────┬──────────┬───┬─────┬─────┬─────┬─────┐\n",
       "│ ID   ┆ BM_BLAST ┆ WBC      ┆ ANC      ┆ … ┆ SF  ┆ TF  ┆ STG ┆ CCG │\n",
       "│ ---  ┆ ---      ┆ ---      ┆ ---      ┆   ┆ --- ┆ --- ┆ --- ┆ --- │\n",
       "│ i64  ┆ f64      ┆ f64      ┆ f64      ┆   ┆ i64 ┆ i64 ┆ i64 ┆ i64 │\n",
       "╞══════╪══════════╪══════════╪══════════╪═══╪═════╪═════╪═════╪═════╡\n",
       "│ 1    ┆ 0.708333 ┆ 0.010204 ┆ 0.007703 ┆ … ┆ 0   ┆ 0   ┆ 0   ┆ 0   │\n",
       "│ 2    ┆ 0.364583 ┆ 0.009406 ┆ 0.016288 ┆ … ┆ 0   ┆ 0   ┆ 0   ┆ 0   │\n",
       "│ 3    ┆ 0.0625   ┆ 0.036676 ┆ 0.114    ┆ … ┆ 0   ┆ 0   ┆ 0   ┆ 0   │\n",
       "│ 4    ┆ 0.635417 ┆ 0.016415 ┆ 0.02697  ┆ … ┆ 0   ┆ 1   ┆ 0   ┆ 0   │\n",
       "│ 5    ┆ 0.020833 ┆ 0.003579 ┆ 0.009694 ┆ … ┆ 1   ┆ 0   ┆ 0   ┆ 0   │\n",
       "│ …    ┆ …        ┆ …        ┆ …        ┆ … ┆ …   ┆ …   ┆ …   ┆ …   │\n",
       "│ 1189 ┆ 0.0625   ┆ 0.008577 ┆ 0.017021 ┆ … ┆ 0   ┆ 0   ┆ 0   ┆ 0   │\n",
       "│ 1190 ┆ 0.0625   ┆ 0.008577 ┆ 0.017021 ┆ … ┆ 0   ┆ 0   ┆ 0   ┆ 0   │\n",
       "│ 1191 ┆ 0.0625   ┆ 0.008577 ┆ 0.017021 ┆ … ┆ 0   ┆ 0   ┆ 0   ┆ 0   │\n",
       "│ 1192 ┆ 0.0625   ┆ 0.008577 ┆ 0.017021 ┆ … ┆ 0   ┆ 0   ┆ 0   ┆ 0   │\n",
       "│ 1193 ┆ 0.0625   ┆ 0.008577 ┆ 0.017021 ┆ … ┆ 0   ┆ 0   ┆ 0   ┆ 1   │\n",
       "└──────┴──────────┴──────────┴──────────┴───┴─────┴─────┴─────┴─────┘"
      ]
     },
     "execution_count": 133,
     "metadata": {},
     "output_type": "execute_result"
    }
   ],
   "source": [
    "testdataset"
   ]
  },
  {
   "cell_type": "code",
   "execution_count": null,
   "id": "46b9e0d7-6da3-4fcc-be14-5a04cf3dab05",
   "metadata": {},
   "outputs": [],
   "source": []
  }
 ],
 "metadata": {
  "kernelspec": {
   "display_name": "Python 3 (ipykernel)",
   "language": "python",
   "name": "python3"
  },
  "language_info": {
   "codemirror_mode": {
    "name": "ipython",
    "version": 3
   },
   "file_extension": ".py",
   "mimetype": "text/x-python",
   "name": "python",
   "nbconvert_exporter": "python",
   "pygments_lexer": "ipython3",
   "version": "3.9.6"
  }
 },
 "nbformat": 4,
 "nbformat_minor": 5
}
